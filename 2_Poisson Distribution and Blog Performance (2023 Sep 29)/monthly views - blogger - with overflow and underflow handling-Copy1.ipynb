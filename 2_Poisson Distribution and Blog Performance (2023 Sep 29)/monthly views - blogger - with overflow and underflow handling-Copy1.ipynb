{
 "cells": [
  {
   "cell_type": "raw",
   "id": "457d9c84-0eac-4b7d-971f-f0fcbf95753a",
   "metadata": {},
   "source": [
    "Evaluating the Poisson distribution\n",
    "\n",
    "Computing P ( k ; λ )  for given k k and λ is a trivial task that can be accomplished by using the standard definition of P ( k ; λ )  in terms of exponential, power, and factorial functions. However, the conventional definition of the Poisson distribution contains two terms that can easily overflow on computers: λ**k and k!. The fraction of λk to k! can also produce a rounding error that is very large compared to e**−λ, and therefore give an erroneous result. For numerical stability the Poisson probability mass function should therefore be evaluated as\n",
    "\n",
    "    f ( k ; λ ) = exp ⁡ [ k ln ⁡ λ − λ − ln ⁡ Γ ( k + 1 ) ] , \n",
    "    \n",
    "which is mathematically equivalent but numerically stable. The natural logarithm of the Gamma function can be obtained using the lgamma function in the C standard library (C99 version) or R, the gammaln function in MATLAB or SciPy, or the log_gamma function in Fortran 2008 and later.\n",
    "\n",
    "https://en.wikipedia.org/wiki/Poisson_distribution"
   ]
  },
  {
   "cell_type": "code",
   "execution_count": 22,
   "id": "72d1dd11-1686-4d30-bf53-c8ab7a9f4bc8",
   "metadata": {},
   "outputs": [],
   "source": [
    "import pandas as pd\n",
    "import mpmath"
   ]
  },
  {
   "cell_type": "code",
   "execution_count": 5,
   "id": "5948d441-54e3-4e7d-8db7-3de593cc7121",
   "metadata": {},
   "outputs": [],
   "source": [
    "df = pd.read_csv('data.csv')"
   ]
  },
  {
   "cell_type": "code",
   "execution_count": 6,
   "id": "1c852b73-5761-41ae-b35b-cc7a9f862896",
   "metadata": {},
   "outputs": [
    {
     "data": {
      "text/html": [
       "<div>\n",
       "<style scoped>\n",
       "    .dataframe tbody tr th:only-of-type {\n",
       "        vertical-align: middle;\n",
       "    }\n",
       "\n",
       "    .dataframe tbody tr th {\n",
       "        vertical-align: top;\n",
       "    }\n",
       "\n",
       "    .dataframe thead th {\n",
       "        text-align: right;\n",
       "    }\n",
       "</style>\n",
       "<table border=\"1\" class=\"dataframe\">\n",
       "  <thead>\n",
       "    <tr style=\"text-align: right;\">\n",
       "      <th></th>\n",
       "      <th>Month</th>\n",
       "      <th>Posts Total</th>\n",
       "      <th>Posts Growth</th>\n",
       "      <th>Views</th>\n",
       "      <th>Views Growth</th>\n",
       "    </tr>\n",
       "  </thead>\n",
       "  <tbody>\n",
       "    <tr>\n",
       "      <th>0</th>\n",
       "      <td>2016 10</td>\n",
       "      <td>0</td>\n",
       "      <td>0</td>\n",
       "      <td>2</td>\n",
       "      <td>236</td>\n",
       "    </tr>\n",
       "    <tr>\n",
       "      <th>1</th>\n",
       "      <td>2016 11</td>\n",
       "      <td>4</td>\n",
       "      <td>4</td>\n",
       "      <td>218</td>\n",
       "      <td>454</td>\n",
       "    </tr>\n",
       "    <tr>\n",
       "      <th>2</th>\n",
       "      <td>2016 12</td>\n",
       "      <td>2</td>\n",
       "      <td>6</td>\n",
       "      <td>191</td>\n",
       "      <td>645</td>\n",
       "    </tr>\n",
       "    <tr>\n",
       "      <th>3</th>\n",
       "      <td>2017 01</td>\n",
       "      <td>0</td>\n",
       "      <td>6</td>\n",
       "      <td>3</td>\n",
       "      <td>648</td>\n",
       "    </tr>\n",
       "    <tr>\n",
       "      <th>4</th>\n",
       "      <td>2017 02</td>\n",
       "      <td>0</td>\n",
       "      <td>6</td>\n",
       "      <td>16</td>\n",
       "      <td>664</td>\n",
       "    </tr>\n",
       "    <tr>\n",
       "      <th>...</th>\n",
       "      <td>...</td>\n",
       "      <td>...</td>\n",
       "      <td>...</td>\n",
       "      <td>...</td>\n",
       "      <td>...</td>\n",
       "    </tr>\n",
       "    <tr>\n",
       "      <th>79</th>\n",
       "      <td>2023 05</td>\n",
       "      <td>25</td>\n",
       "      <td>1975</td>\n",
       "      <td>6195</td>\n",
       "      <td>1329937</td>\n",
       "    </tr>\n",
       "    <tr>\n",
       "      <th>80</th>\n",
       "      <td>2023 06</td>\n",
       "      <td>11</td>\n",
       "      <td>1986</td>\n",
       "      <td>9585</td>\n",
       "      <td>1339522</td>\n",
       "    </tr>\n",
       "    <tr>\n",
       "      <th>81</th>\n",
       "      <td>2023 07</td>\n",
       "      <td>18</td>\n",
       "      <td>2004</td>\n",
       "      <td>27490</td>\n",
       "      <td>1367012</td>\n",
       "    </tr>\n",
       "    <tr>\n",
       "      <th>82</th>\n",
       "      <td>2023 08</td>\n",
       "      <td>5</td>\n",
       "      <td>2009</td>\n",
       "      <td>9533</td>\n",
       "      <td>1376545</td>\n",
       "    </tr>\n",
       "    <tr>\n",
       "      <th>83</th>\n",
       "      <td>2023 09</td>\n",
       "      <td>7</td>\n",
       "      <td>2016</td>\n",
       "      <td>28291</td>\n",
       "      <td>1404836</td>\n",
       "    </tr>\n",
       "  </tbody>\n",
       "</table>\n",
       "<p>84 rows × 5 columns</p>\n",
       "</div>"
      ],
      "text/plain": [
       "      Month  Posts Total  Posts Growth  Views  Views Growth\n",
       "0   2016 10            0             0      2           236\n",
       "1   2016 11            4             4    218           454\n",
       "2   2016 12            2             6    191           645\n",
       "3   2017 01            0             6      3           648\n",
       "4   2017 02            0             6     16           664\n",
       "..      ...          ...           ...    ...           ...\n",
       "79  2023 05           25          1975   6195       1329937\n",
       "80  2023 06           11          1986   9585       1339522\n",
       "81  2023 07           18          2004  27490       1367012\n",
       "82  2023 08            5          2009   9533       1376545\n",
       "83  2023 09            7          2016  28291       1404836\n",
       "\n",
       "[84 rows x 5 columns]"
      ]
     },
     "execution_count": 6,
     "metadata": {},
     "output_type": "execute_result"
    }
   ],
   "source": [
    "df"
   ]
  },
  {
   "cell_type": "code",
   "execution_count": 7,
   "id": "6e788cac-8c27-4e55-a5f0-37f87b2a7d6d",
   "metadata": {},
   "outputs": [],
   "source": [
    "lm = df['Views'].mean()"
   ]
  },
  {
   "cell_type": "code",
   "execution_count": 8,
   "id": "311f0b39-af44-486d-a39b-bc82c2570907",
   "metadata": {},
   "outputs": [
    {
     "data": {
      "text/plain": [
       "16721.45238095238"
      ]
     },
     "execution_count": 8,
     "metadata": {},
     "output_type": "execute_result"
    }
   ],
   "source": [
    "lm"
   ]
  },
  {
   "cell_type": "code",
   "execution_count": 46,
   "id": "64daad65-7368-4907-924e-988040992ac8",
   "metadata": {},
   "outputs": [],
   "source": [
    "k_list = np.arange(15000, 18000, 100)"
   ]
  },
  {
   "cell_type": "code",
   "execution_count": 47,
   "id": "ca0997f5-3e5d-4c1d-b3e3-89c329be2de0",
   "metadata": {},
   "outputs": [],
   "source": [
    "import math\n",
    "def get_poisson_probability(lm, k):\n",
    "    # ret = math.pow(lm, k) * math.pow(math.e, -lm) / math.factorial(k)\n",
    "    \n",
    "    # exp⁡ [ k ln λ − λ − ln ⁡ Γ ( k + 1 ) ]\n",
    "    \n",
    "    ret = mpmath.exp(k * math.log(lm) - lm - mpmath.log(mpmath.gamma(k + 1)))\n",
    "    \n",
    "    return ret"
   ]
  },
  {
   "cell_type": "code",
   "execution_count": 50,
   "id": "2b119f04-976d-464d-bb41-aab2dd2da6ed",
   "metadata": {},
   "outputs": [
    {
     "name": "stdout",
     "output_type": "stream",
     "text": [
      "15000 0.0\n",
      "15100 0.0\n",
      "15200 0.0\n",
      "15300 0.0\n",
      "15400 0.0\n",
      "15500 0.0\n",
      "15600 0.0\n",
      "15700 0.0\n",
      "15800 0.0\n",
      "15900 0.0\n",
      "16000 0.0\n",
      "16100 0.0\n",
      "16200 0.0\n",
      "16300 1e-05\n",
      "16400 0.00014\n",
      "16500 0.00071\n",
      "16600 0.00199\n",
      "16700 0.00304\n",
      "16800 0.00256\n",
      "16900 0.00119\n",
      "17000 0.0003\n",
      "17100 4e-05\n",
      "17200 0.0\n",
      "17300 0.0\n",
      "17400 0.0\n",
      "17500 0.0\n",
      "17600 0.0\n",
      "17700 0.0\n",
      "17800 0.0\n",
      "17900 0.0\n"
     ]
    }
   ],
   "source": [
    "for i in k_list:\n",
    "    print(str(i) + \" \" + str(round(get_poisson_probability(lm, i), 5)))"
   ]
  },
  {
   "cell_type": "code",
   "execution_count": null,
   "id": "94106c1c-d8dc-426b-9374-cd1fa37714b8",
   "metadata": {},
   "outputs": [],
   "source": []
  },
  {
   "cell_type": "code",
   "execution_count": null,
   "id": "8ee7556d-298f-4a6e-9cea-26cc268587c8",
   "metadata": {},
   "outputs": [],
   "source": []
  },
  {
   "cell_type": "code",
   "execution_count": null,
   "id": "88c54a89-469e-40e8-a22d-a867f16b8508",
   "metadata": {},
   "outputs": [],
   "source": []
  }
 ],
 "metadata": {
  "kernelspec": {
   "display_name": "Python 3 (ipykernel)",
   "language": "python",
   "name": "python3"
  },
  "language_info": {
   "codemirror_mode": {
    "name": "ipython",
    "version": 3
   },
   "file_extension": ".py",
   "mimetype": "text/x-python",
   "name": "python",
   "nbconvert_exporter": "python",
   "pygments_lexer": "ipython3",
   "version": "3.9.13"
  }
 },
 "nbformat": 4,
 "nbformat_minor": 5
}
